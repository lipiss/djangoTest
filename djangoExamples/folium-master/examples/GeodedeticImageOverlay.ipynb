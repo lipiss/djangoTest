{
 "cells": [
  {
   "cell_type": "code",
   "execution_count": 1,
   "metadata": {},
   "outputs": [
    {
     "name": "stdout",
     "output_type": "stream",
     "text": [
      "0.6.0\n"
     ]
    }
   ],
   "source": [
    "import os\n",
    "import folium\n",
    "\n",
    "print(folium.__version__)"
   ]
  },
  {
   "cell_type": "code",
   "execution_count": 2,
   "metadata": {},
   "outputs": [],
   "source": [
    "import numpy as np\n",
    "\n",
    "\n",
    "def sample_data(shape=(73, 145)):\n",
    "    nlats, nlons = shape\n",
    "    lats = np.linspace(-np.pi / 2, np.pi / 2, nlats)\n",
    "    lons = np.linspace(0, 2 * np.pi, nlons)\n",
    "    lons, lats = np.meshgrid(lons, lats)\n",
    "    wave = 0.75 * (np.sin(2 * lats) ** 8) * np.cos(4 * lons)\n",
    "    mean = 0.5 * np.cos(2 * lats) * ((np.sin(2 * lats)) ** 2 + 2)\n",
    "\n",
    "    lats = np.rad2deg(lats)\n",
    "    lons = np.rad2deg(lons)\n",
    "    data = wave + mean\n",
    "\n",
    "    return lons, lats, data\n",
    "\n",
    "\n",
    "lon, lat, data = sample_data(shape=(73, 145))\n",
    "lon -= 180"
   ]
  },
  {
   "cell_type": "code",
   "execution_count": 3,
   "metadata": {},
   "outputs": [],
   "source": [
    "%matplotlib inline\n",
    "\n",
    "import matplotlib\n",
    "\n",
    "cm = matplotlib.cm.get_cmap('cubehelix')\n",
    "\n",
    "normed_data = (data - data.min()) / (data.max() - data.min())\n",
    "colored_data = cm(normed_data)"
   ]
  },
  {
   "cell_type": "markdown",
   "metadata": {},
   "source": [
    "# Bad"
   ]
  },
  {
   "cell_type": "code",
   "execution_count": 4,
   "metadata": {},
   "outputs": [
    {
     "data": {
      "text/html": [
       "<div style=\"width:100%;\"><div style=\"position:relative;width:100%;height:0;padding-bottom:60%;\"><iframe src=\"data:text/html;charset=utf-8;base64,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\" style=\"position:absolute;width:100%;height:100%;left:0;top:0;border:none !important;\" allowfullscreen webkitallowfullscreen mozallowfullscreen></iframe></div></div>"
      ],
      "text/plain": [
       "<folium.folium.Map at 0x9c74828>"
      ]
     },
     "execution_count": 4,
     "metadata": {},
     "output_type": "execute_result"
    }
   ],
   "source": [
    "m = folium.Map(location=[lat.mean(), lon.mean()], zoom_start=1)\n",
    "\n",
    "folium.raster_layers.ImageOverlay(\n",
    "    image=colored_data,\n",
    "    bounds=[[lat.min(), lon.min()], [lat.max(), lon.max()]],\n",
    "    opacity=0.25\n",
    ").add_to(m)\n",
    "\n",
    "m.save(os.path.join('results', 'GeodedeticImageOverlay_0.html'))\n",
    "\n",
    "m"
   ]
  },
  {
   "cell_type": "markdown",
   "metadata": {},
   "source": [
    "# Good"
   ]
  },
  {
   "cell_type": "code",
   "execution_count": 5,
   "metadata": {},
   "outputs": [
    {
     "data": {
      "text/html": [
       "<div style=\"width:100%;\"><div style=\"position:relative;width:100%;height:0;padding-bottom:60%;\"><iframe src=\"data:text/html;charset=utf-8;base64,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\" style=\"position:absolute;width:100%;height:100%;left:0;top:0;border:none !important;\" allowfullscreen webkitallowfullscreen mozallowfullscreen></iframe></div></div>"
      ],
      "text/plain": [
       "<folium.folium.Map at 0x9c86940>"
      ]
     },
     "execution_count": 5,
     "metadata": {},
     "output_type": "execute_result"
    }
   ],
   "source": [
    "m = folium.Map(location=[lat.mean(), lon.mean()], zoom_start=1)\n",
    "\n",
    "folium.raster_layers.ImageOverlay(\n",
    "    image=colored_data,\n",
    "    bounds=[[lat.min(), lon.min()], [lat.max(), lon.max()]],\n",
    "    mercator_project=True,\n",
    "    opacity=0.25\n",
    ").add_to(m)\n",
    "\n",
    "m.save(os.path.join('results', 'GeodedeticImageOverlay_1.html'))\n",
    "\n",
    "m"
   ]
  },
  {
   "cell_type": "markdown",
   "metadata": {},
   "source": [
    "# Same as above but with cartopy"
   ]
  },
  {
   "cell_type": "code",
   "execution_count": 6,
   "metadata": {},
   "outputs": [
    {
     "ename": "ModuleNotFoundError",
     "evalue": "No module named 'cartopy'",
     "output_type": "error",
     "traceback": [
      "\u001b[1;31m---------------------------------------------------------------------------\u001b[0m",
      "\u001b[1;31mModuleNotFoundError\u001b[0m                       Traceback (most recent call last)",
      "\u001b[1;32m<ipython-input-6-f0b9096a59bd>\u001b[0m in \u001b[0;36m<module>\u001b[1;34m()\u001b[0m\n\u001b[1;32m----> 1\u001b[1;33m \u001b[1;32mimport\u001b[0m \u001b[0mcartopy\u001b[0m\u001b[1;33m.\u001b[0m\u001b[0mcrs\u001b[0m \u001b[1;32mas\u001b[0m \u001b[0mccrs\u001b[0m\u001b[1;33m\u001b[0m\u001b[0m\n\u001b[0m\u001b[0;32m      2\u001b[0m \u001b[1;32mfrom\u001b[0m \u001b[0mcartopy\u001b[0m\u001b[1;33m.\u001b[0m\u001b[0mimg_transform\u001b[0m \u001b[1;32mimport\u001b[0m \u001b[0mwarp_array\u001b[0m\u001b[1;33m\u001b[0m\u001b[0m\n\u001b[0;32m      3\u001b[0m \u001b[1;33m\u001b[0m\u001b[0m\n\u001b[0;32m      4\u001b[0m \u001b[0msource_extent\u001b[0m \u001b[1;33m=\u001b[0m \u001b[1;33m[\u001b[0m\u001b[0mlon\u001b[0m\u001b[1;33m.\u001b[0m\u001b[0mmin\u001b[0m\u001b[1;33m(\u001b[0m\u001b[1;33m)\u001b[0m\u001b[1;33m,\u001b[0m \u001b[0mlon\u001b[0m\u001b[1;33m.\u001b[0m\u001b[0mmax\u001b[0m\u001b[1;33m(\u001b[0m\u001b[1;33m)\u001b[0m\u001b[1;33m,\u001b[0m \u001b[0mlat\u001b[0m\u001b[1;33m.\u001b[0m\u001b[0mmin\u001b[0m\u001b[1;33m(\u001b[0m\u001b[1;33m)\u001b[0m\u001b[1;33m,\u001b[0m \u001b[0mlat\u001b[0m\u001b[1;33m.\u001b[0m\u001b[0mmax\u001b[0m\u001b[1;33m(\u001b[0m\u001b[1;33m)\u001b[0m\u001b[1;33m]\u001b[0m\u001b[1;33m\u001b[0m\u001b[0m\n\u001b[0;32m      5\u001b[0m \u001b[1;33m\u001b[0m\u001b[0m\n",
      "\u001b[1;31mModuleNotFoundError\u001b[0m: No module named 'cartopy'"
     ]
    }
   ],
   "source": [
    "import cartopy.crs as ccrs\n",
    "from cartopy.img_transform import warp_array\n",
    "\n",
    "source_extent = [lon.min(), lon.max(), lat.min(), lat.max()]\n",
    "\n",
    "new_data = warp_array(colored_data,\n",
    "                      target_proj=ccrs.GOOGLE_MERCATOR,\n",
    "                      source_proj=ccrs.PlateCarree(),\n",
    "                      target_res=data.shape,\n",
    "                      source_extent=source_extent,\n",
    "                      target_extent=None,\n",
    "                      mask_extrapolated=False)\n",
    "\n",
    "\n",
    "m = folium.Map(location=[lat.mean(), lon.mean()], zoom_start=1)\n",
    "\n",
    "folium.raster_layers.ImageOverlay(\n",
    "    image=new_data[0],\n",
    "    bounds=[[lat.min(), lon.min()], [lat.max(), lon.max()]],\n",
    "    opacity=0.25\n",
    ").add_to(m)\n",
    "\n",
    "m.save(os.path.join('results', 'GeodedeticImageOverlay_2.html'))\n",
    "\n",
    "m"
   ]
  },
  {
   "cell_type": "markdown",
   "metadata": {},
   "source": [
    "TODO: Try [rasterio](https://github.com/mapbox/rasterio/blob/ca75cf0a842943c1b3da4522e6ea3500215130fd/docs/reproject.rst).  Rasterio can warp images and arrays."
   ]
  },
  {
   "cell_type": "markdown",
   "metadata": {},
   "source": [
    "# Compare to original"
   ]
  },
  {
   "cell_type": "code",
   "execution_count": null,
   "metadata": {},
   "outputs": [],
   "source": [
    "from IPython.display import IFrame\n",
    "\n",
    "url = 'http://scitools.org.uk/cartopy/docs/latest/gallery/waves.html'\n",
    "IFrame(url, width=900, height=750)"
   ]
  }
 ],
 "metadata": {
  "kernelspec": {
   "display_name": "Python 3",
   "language": "python",
   "name": "python3"
  }
 },
 "nbformat": 4,
 "nbformat_minor": 1
}
